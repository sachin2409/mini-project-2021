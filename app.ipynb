{
 "cells": [
  {
   "cell_type": "code",
   "execution_count": 1,
   "metadata": {
    "scrolled": true
   },
   "outputs": [
    {
     "name": "stdout",
     "output_type": "stream",
     "text": [
      "pygame 2.0.0.dev10 (SDL 2.0.12, python 3.8.5)\n",
      "Hello from the pygame community. https://www.pygame.org/contribute.html\n"
     ]
    }
   ],
   "source": [
    "import pygame as pg\n",
    "import sys\n",
    "from pygame.locals import *\n",
    "import numpy as np\n",
    "from keras.models import load_model\n",
    "import cv2 as cv"
   ]
  },
  {
   "cell_type": "code",
   "execution_count": 2,
   "metadata": {},
   "outputs": [],
   "source": [
    "White=(255,255,255)\n",
    "Black=(0,0,0)\n",
    "Red=(255,0,0)\n",
    "Boundary=5\n",
    "WINDOWSIZEX=600\n",
    "WINDOWSIZEY=500\n",
    "\n",
    "IMAGESAVE=False\n",
    "\n",
    "Model=load_model(\"./model.h5\")\n",
    "\n",
    "Labels={0:\"ZERO\",1:\"ONE\",2:\"TWO\",3:\"THREE\",4:\"FOUR\",5:\"FIVE\",6:\"SIX\",7:\"SEVEN\",8:\"EIGHT\",9:\"NINE\"}"
   ]
  },
  {
   "cell_type": "code",
   "execution_count": 3,
   "metadata": {
    "scrolled": false
   },
   "outputs": [
    {
     "ename": "IndexError",
     "evalue": "list index out of range",
     "output_type": "error",
     "traceback": [
      "\u001b[1;31m---------------------------------------------------------------------------\u001b[0m",
      "\u001b[1;31mIndexError\u001b[0m                                Traceback (most recent call last)",
      "\u001b[1;32m<ipython-input-3-cff38e6c2a68>\u001b[0m in \u001b[0;36m<module>\u001b[1;34m\u001b[0m\n\u001b[0;32m     32\u001b[0m             \u001b[0mnumber_y\u001b[0m\u001b[1;33m=\u001b[0m\u001b[0msorted\u001b[0m\u001b[1;33m(\u001b[0m\u001b[0mnumber_y\u001b[0m\u001b[1;33m)\u001b[0m\u001b[1;33m\u001b[0m\u001b[1;33m\u001b[0m\u001b[0m\n\u001b[0;32m     33\u001b[0m \u001b[1;33m\u001b[0m\u001b[0m\n\u001b[1;32m---> 34\u001b[1;33m             \u001b[0mrect_min_x\u001b[0m\u001b[1;33m,\u001b[0m\u001b[0mrect_max_x\u001b[0m\u001b[1;33m=\u001b[0m\u001b[0mmax\u001b[0m\u001b[1;33m(\u001b[0m\u001b[0mnumber_x\u001b[0m\u001b[1;33m[\u001b[0m\u001b[1;36m0\u001b[0m\u001b[1;33m]\u001b[0m\u001b[1;33m-\u001b[0m\u001b[0mBoundary\u001b[0m\u001b[1;33m,\u001b[0m\u001b[1;36m0\u001b[0m\u001b[1;33m)\u001b[0m\u001b[1;33m,\u001b[0m\u001b[0mmin\u001b[0m\u001b[1;33m(\u001b[0m\u001b[0mWINDOWSIZEX\u001b[0m\u001b[1;33m,\u001b[0m\u001b[0mnumber_x\u001b[0m\u001b[1;33m[\u001b[0m\u001b[1;33m-\u001b[0m\u001b[1;36m1\u001b[0m\u001b[1;33m]\u001b[0m\u001b[1;33m+\u001b[0m\u001b[0mBoundary\u001b[0m\u001b[1;33m)\u001b[0m\u001b[1;33m\u001b[0m\u001b[1;33m\u001b[0m\u001b[0m\n\u001b[0m\u001b[0;32m     35\u001b[0m             \u001b[0mrect_min_y\u001b[0m\u001b[1;33m,\u001b[0m\u001b[0mrect_max_y\u001b[0m\u001b[1;33m=\u001b[0m\u001b[0mmax\u001b[0m\u001b[1;33m(\u001b[0m\u001b[0mnumber_y\u001b[0m\u001b[1;33m[\u001b[0m\u001b[1;36m0\u001b[0m\u001b[1;33m]\u001b[0m\u001b[1;33m-\u001b[0m\u001b[0mBoundary\u001b[0m\u001b[1;33m,\u001b[0m\u001b[1;36m0\u001b[0m\u001b[1;33m)\u001b[0m\u001b[1;33m,\u001b[0m\u001b[0mmin\u001b[0m\u001b[1;33m(\u001b[0m\u001b[0mWINDOWSIZEY\u001b[0m\u001b[1;33m,\u001b[0m\u001b[0mnumber_y\u001b[0m\u001b[1;33m[\u001b[0m\u001b[1;33m-\u001b[0m\u001b[1;36m1\u001b[0m\u001b[1;33m]\u001b[0m\u001b[1;33m+\u001b[0m\u001b[0mBoundary\u001b[0m\u001b[1;33m)\u001b[0m\u001b[1;33m\u001b[0m\u001b[1;33m\u001b[0m\u001b[0m\n\u001b[0;32m     36\u001b[0m \u001b[1;33m\u001b[0m\u001b[0m\n",
      "\u001b[1;31mIndexError\u001b[0m: list index out of range"
     ]
    }
   ],
   "source": [
    "#intialize pygame\n",
    "pg.init()\n",
    "\n",
    "FONT=pg.font.SysFont(\"arial\",18)\n",
    "DISPLAYSURFACE=pg.display.set_mode((WINDOWSIZEX,WINDOWSIZEY))\n",
    "pg.display.set_caption(\"Digit Recognition\")\n",
    "iswriting=False\n",
    "\n",
    "number_x=[]\n",
    "number_y=[]\n",
    "img_c=1\n",
    "PREDICT=True\n",
    "\n",
    "while True:\n",
    "    for event in pg.event.get():\n",
    "        if event.type == pg.quit:\n",
    "            pg.quit()\n",
    "            sys.exit()\n",
    "            \n",
    "        if event.type == MOUSEMOTION and iswriting:\n",
    "            x,y=event.pos\n",
    "            pg.draw.circle(DISPLAYSURFACE, White, (x,y), 4, 0)\n",
    "            number_x.append(x)\n",
    "            number_y.append(y)\n",
    "            \n",
    "        if event.type == MOUSEBUTTONDOWN:\n",
    "            iswriting=True\n",
    "            \n",
    "        if event.type == MOUSEBUTTONUP:\n",
    "            iswriting=False\n",
    "            number_x=sorted(number_x)\n",
    "            number_y=sorted(number_y)\n",
    "            \n",
    "            rect_min_x,rect_max_x=max(number_x[0]-Boundary,0),min(WINDOWSIZEX,number_x[-1]+Boundary)\n",
    "            rect_min_y,rect_max_y=max(number_y[0]-Boundary,0),min(WINDOWSIZEY,number_y[-1]+Boundary)\n",
    "            \n",
    "            number_x=[]\n",
    "            number_y=[]\n",
    "            \n",
    "            img_arr=np.array(pg.PixelArray(DISPLAYSURFACE))[rect_min_x:rect_max_x,rect_min_y:rect_max_y].T.astype(np.float32)\n",
    "            \n",
    "            if IMAGESAVE:\n",
    "                cv.imwrite(\"image.png\")\n",
    "                img_c+=1\n",
    "            \n",
    "            if PREDICT:\n",
    "                image=cv.resize(img_arr,(28,28))\n",
    "                image=np.pad(image,(10,10),'constant',constant_values=0)\n",
    "                image=cv.resize(image,(28,28))/255\n",
    "                \n",
    "                label=str(Labels[np.argmax(Model.predict(image.reshape(1,28,28,1)))])\n",
    "                \n",
    "                textsurface=FONT.render(label,True,Red,White)\n",
    "                textrec=textsurface.get_rect()\n",
    "                textrec.left,textrec.bottom=rect_min_x,rect_max_y\n",
    "                DISPLAYSURFACE.blit(textsurface,textrec)\n",
    "                \n",
    "                \n",
    "            if event.type==KEYDOWN:\n",
    "                if event.unicode=='n':\n",
    "                    DISPLAYSURFACE.fill(Black)\n",
    "                    \n",
    "                    \n",
    "    pg.display.update()"
   ]
  },
  {
   "cell_type": "code",
   "execution_count": null,
   "metadata": {},
   "outputs": [],
   "source": []
  }
 ],
 "metadata": {
  "kernelspec": {
   "display_name": "Python 3",
   "language": "python",
   "name": "python3"
  },
  "language_info": {
   "codemirror_mode": {
    "name": "ipython",
    "version": 3
   },
   "file_extension": ".py",
   "mimetype": "text/x-python",
   "name": "python",
   "nbconvert_exporter": "python",
   "pygments_lexer": "ipython3",
   "version": "3.8.5"
  }
 },
 "nbformat": 4,
 "nbformat_minor": 4
}
